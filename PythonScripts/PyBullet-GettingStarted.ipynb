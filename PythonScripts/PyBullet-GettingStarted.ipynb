{
 "cells": [
  {
   "cell_type": "code",
   "execution_count": 1,
   "id": "bottom-journal",
   "metadata": {},
   "outputs": [],
   "source": [
    "import pybullet as p\n",
    "import pybullet_data\n",
    "\n",
    "# Can alternatively pass in p.DIRECT \n",
    "client = p.connect(p.GUI)\n",
    "p.setGravity(0, 0, -10, physicsClientId=client) \n",
    "\n",
    "p.setAdditionalSearchPath(pybullet_data.getDataPath())\n",
    "\n",
    "planeId = p.loadURDF(\"plane.urdf\")\n",
    "carId = p.loadURDF(\"racecar/racecar.urdf\", basePosition=[0,0,0.2])\n",
    "\n",
    "for _ in range(1000): \n",
    "    pos, ori = p.getBasePositionAndOrientation(carId)\n",
    "    p.applyExternalForce(carId, 0, [29, 0, 0], pos, p.WORLD_FRAME)\n",
    "    p.stepSimulation()"
   ]
  },
  {
   "cell_type": "code",
   "execution_count": 4,
   "id": "applicable-ordinary",
   "metadata": {},
   "outputs": [],
   "source": [
    "import pybullet as p \n",
    "from time import sleep\n",
    "p.connect(p.GUI)\n",
    "p.loadURDF(\"simplecar.urdf\") \n",
    "sleep(20)"
   ]
  },
  {
   "cell_type": "code",
   "execution_count": 7,
   "id": "endless-baltimore",
   "metadata": {},
   "outputs": [
    {
     "name": "stdout",
     "output_type": "stream",
     "text": [
      "0 :  b'base_to_left_hinge'\n",
      "1 :  b'left_hinge_to_left_front_wheel'\n",
      "2 :  b'base_to_right_hinge'\n",
      "3 :  b'right_hinge_to_right_front_wheel'\n",
      "4 :  b'base_to_left_back_wheel'\n",
      "5 :  b'base_to_right_back_wheel'\n"
     ]
    }
   ],
   "source": [
    "import pybullet as p\n",
    "p.connect(p.DIRECT)\n",
    "car = p.loadURDF('simplecar.urdf')\n",
    "number_of_joints = p.getNumJoints(car)\n",
    "for joint_number in range(number_of_joints):\n",
    "    info = p.getJointInfo(car, joint_number)\n",
    "    # print(info)\n",
    "    print(info[0], \": \", info[1])"
   ]
  },
  {
   "cell_type": "code",
   "execution_count": 3,
   "id": "whole-saudi",
   "metadata": {},
   "outputs": [],
   "source": [
    "import pybullet as p\n",
    "from time import sleep\n",
    "\n",
    "wheel_indices = [1, 3, 4, 5]\n",
    "hinge_indices = [0, 2]\n",
    "\n",
    "p.connect(p.GUI)\n",
    "p.setGravity(0, 0, -10)\n",
    "angle = p.addUserDebugParameter('Steering', -0.5, 0.5, 0)\n",
    "throttle = p.addUserDebugParameter('Throttle', -20, 20, 0)\n",
    "car = p.loadURDF('simplecar.urdf', [0, 0, 0.1])\n",
    "plane = p.loadURDF('simpleplane.urdf')\n",
    "\n",
    "# while True:\n",
    "for _ in range(100000): \n",
    "    user_angle = p.readUserDebugParameter(angle)\n",
    "    user_throttle = p.readUserDebugParameter(throttle)\n",
    "    for joint_index in wheel_indices:\n",
    "        p.setJointMotorControl2(car, joint_index,\n",
    "                                p.VELOCITY_CONTROL,\n",
    "                                targetVelocity=user_throttle)\n",
    "    for joint_index in hinge_indices:\n",
    "        p.setJointMotorControl2(car, joint_index,\n",
    "                                p.POSITION_CONTROL, \n",
    "                                targetPosition=user_angle)\n",
    "    p.stepSimulation()\n",
    "\n",
    "p.disconnect()"
   ]
  },
  {
   "cell_type": "code",
   "execution_count": null,
   "id": "exceptional-musician",
   "metadata": {},
   "outputs": [],
   "source": []
  }
 ],
 "metadata": {
  "kernelspec": {
   "display_name": "Python 3",
   "language": "python",
   "name": "python3"
  },
  "language_info": {
   "codemirror_mode": {
    "name": "ipython",
    "version": 3
   },
   "file_extension": ".py",
   "mimetype": "text/x-python",
   "name": "python",
   "nbconvert_exporter": "python",
   "pygments_lexer": "ipython3",
   "version": "3.6.8"
  }
 },
 "nbformat": 4,
 "nbformat_minor": 5
}
